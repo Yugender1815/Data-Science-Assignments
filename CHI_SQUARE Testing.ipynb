{
 "cells": [
  {
   "cell_type": "code",
   "execution_count": 10,
   "id": "6f3c7c81",
   "metadata": {},
   "outputs": [],
   "source": [
    "import numpy as np\n",
    "from scipy.stats import chi2"
   ]
  },
  {
   "cell_type": "code",
   "execution_count": 11,
   "id": "9865a50b",
   "metadata": {},
   "outputs": [],
   "source": [
    "# Given data\n",
    "observed = np.array([[50, 70],\n",
    "                     [80, 100],\n",
    "                     [60, 90],\n",
    "                     [30, 50],\n",
    "                     [20, 50]])"
   ]
  },
  {
   "cell_type": "code",
   "execution_count": 12,
   "id": "b540caac",
   "metadata": {},
   "outputs": [],
   "source": [
    "# Calculate expected frequencies\n",
    "row_totals = observed.sum(axis=1)\n",
    "col_totals = observed.sum(axis=0)\n",
    "total = observed.sum()\n",
    "expected = np.outer(row_totals, col_totals) / total"
   ]
  },
  {
   "cell_type": "code",
   "execution_count": 13,
   "id": "e4c35579",
   "metadata": {},
   "outputs": [],
   "source": [
    "# Calculate chi-square statistic\n",
    "chi2_statistic = np.sum((observed - expected)**2 / expected)"
   ]
  },
  {
   "cell_type": "code",
   "execution_count": 14,
   "id": "bc75bee3",
   "metadata": {},
   "outputs": [],
   "source": [
    "# Degrees of freedom\n",
    "degrees_of_freedom = (observed.shape[0] - 1) * (observed.shape[1] - 1)"
   ]
  },
  {
   "cell_type": "code",
   "execution_count": 15,
   "id": "aedcbd65",
   "metadata": {},
   "outputs": [],
   "source": [
    "# Determine critical value\n",
    "alpha = 0.05\n",
    "critical_value = chi2.ppf(1 - alpha, degrees_of_freedom)"
   ]
  },
  {
   "cell_type": "code",
   "execution_count": 16,
   "id": "5e9413b4",
   "metadata": {},
   "outputs": [
    {
     "name": "stdout",
     "output_type": "stream",
     "text": [
      "Chi-Square Statistic: 5.638227513227513\n",
      "Critical Value: 9.487729036781154\n",
      "Conclusion: Fail to reject the null hypothesis\n"
     ]
    }
   ],
   "source": [
    "# Make a decision\n",
    "if chi2_statistic > critical_value:\n",
    "    conclusion = \"Reject the null hypothesis\"\n",
    "else:\n",
    "    conclusion = \"Fail to reject the null hypothesis\"\n",
    "\n",
    "print(\"Chi-Square Statistic:\", chi2_statistic)\n",
    "print(\"Critical Value:\", critical_value)\n",
    "print(\"Conclusion:\", conclusion)"
   ]
  },
  {
   "cell_type": "code",
   "execution_count": null,
   "id": "6b50e21a",
   "metadata": {},
   "outputs": [],
   "source": []
  }
 ],
 "metadata": {
  "kernelspec": {
   "display_name": "Python 3 (ipykernel)",
   "language": "python",
   "name": "python3"
  },
  "language_info": {
   "codemirror_mode": {
    "name": "ipython",
    "version": 3
   },
   "file_extension": ".py",
   "mimetype": "text/x-python",
   "name": "python",
   "nbconvert_exporter": "python",
   "pygments_lexer": "ipython3",
   "version": "3.11.5"
  }
 },
 "nbformat": 4,
 "nbformat_minor": 5
}
