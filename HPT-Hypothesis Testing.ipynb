{
 "cells": [
  {
   "cell_type": "code",
   "execution_count": 2,
   "id": "3e818d9f",
   "metadata": {},
   "outputs": [],
   "source": [
    "import numpy as np\n",
    "from scipy.stats import norm"
   ]
  },
  {
   "cell_type": "code",
   "execution_count": 3,
   "id": "4e659cc0",
   "metadata": {},
   "outputs": [],
   "source": [
    "# Given data\n",
    "sample_mean = 3050\n",
    "theoretical_mean = 1000 + 5 * 600\n",
    "std_dev = 5 * 25\n",
    "n = 25\n",
    "alpha = 0.05"
   ]
  },
  {
   "cell_type": "code",
   "execution_count": 4,
   "id": "8ee34063",
   "metadata": {},
   "outputs": [],
   "source": [
    "# Calculate the test statistic (t)\n",
    "t_statistic = (sample_mean - theoretical_mean) / (std_dev / np.sqrt(n))"
   ]
  },
  {
   "cell_type": "code",
   "execution_count": 5,
   "id": "eb404482",
   "metadata": {},
   "outputs": [],
   "source": [
    "# Determine the critical value from the standard normal distribution\n",
    "critical_value = norm.ppf(1 - alpha)"
   ]
  },
  {
   "cell_type": "code",
   "execution_count": 6,
   "id": "a504adcf",
   "metadata": {},
   "outputs": [],
   "source": [
    "# Make a decision\n",
    "if t_statistic > critical_value:\n",
    "    conclusion = \"Reject the null hypothesis\"\n",
    "else:\n",
    "    conclusion = \"Fail to reject the null hypothesis\""
   ]
  },
  {
   "cell_type": "code",
   "execution_count": 7,
   "id": "8c2d75ca",
   "metadata": {},
   "outputs": [
    {
     "name": "stdout",
     "output_type": "stream",
     "text": [
      "Test Statistic (t): -38.0\n",
      "Critical Value: 1.6448536269514722\n",
      "Decision: Fail to reject the null hypothesis\n",
      "Conclusion: Based on the decision, there is no strong evidence to support the restaurant owners' claim.\n"
     ]
    }
   ],
   "source": [
    "# Conclusion\n",
    "if conclusion == \"Reject the null hypothesis\":\n",
    "    evidence = \"strong evidence\"\n",
    "else:\n",
    "    evidence = \"no strong evidence\"\n",
    "\n",
    "print(\"Test Statistic (t):\", t_statistic)\n",
    "print(\"Critical Value:\", critical_value)\n",
    "print(\"Decision:\", conclusion)\n",
    "print(\"Conclusion: Based on the decision, there is\", evidence, \"to support the restaurant owners' claim.\")\n"
   ]
  },
  {
   "cell_type": "code",
   "execution_count": null,
   "id": "d64b06aa",
   "metadata": {},
   "outputs": [],
   "source": []
  }
 ],
 "metadata": {
  "kernelspec": {
   "display_name": "Python 3 (ipykernel)",
   "language": "python",
   "name": "python3"
  },
  "language_info": {
   "codemirror_mode": {
    "name": "ipython",
    "version": 3
   },
   "file_extension": ".py",
   "mimetype": "text/x-python",
   "name": "python",
   "nbconvert_exporter": "python",
   "pygments_lexer": "ipython3",
   "version": "3.11.5"
  }
 },
 "nbformat": 4,
 "nbformat_minor": 5
}
